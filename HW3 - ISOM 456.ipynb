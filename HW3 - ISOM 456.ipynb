{
 "cells": [
  {
   "cell_type": "code",
   "execution_count": 109,
   "id": "dcc6c343",
   "metadata": {},
   "outputs": [],
   "source": [
    "import pandas as pd\n",
    "import numpy as np"
   ]
  },
  {
   "cell_type": "code",
   "execution_count": 28,
   "id": "cd627ca0",
   "metadata": {},
   "outputs": [],
   "source": [
    "HW3 = pd.read_excel(\"HW3 (1).xlsx\")"
   ]
  },
  {
   "cell_type": "code",
   "execution_count": 70,
   "id": "aaef9d6f",
   "metadata": {},
   "outputs": [
    {
     "data": {
      "text/html": [
       "<div>\n",
       "<style scoped>\n",
       "    .dataframe tbody tr th:only-of-type {\n",
       "        vertical-align: middle;\n",
       "    }\n",
       "\n",
       "    .dataframe tbody tr th {\n",
       "        vertical-align: top;\n",
       "    }\n",
       "\n",
       "    .dataframe thead th {\n",
       "        text-align: right;\n",
       "    }\n",
       "</style>\n",
       "<table border=\"1\" class=\"dataframe\">\n",
       "  <thead>\n",
       "    <tr style=\"text-align: right;\">\n",
       "      <th></th>\n",
       "      <th>sequence_number</th>\n",
       "      <th>US</th>\n",
       "      <th>source_a</th>\n",
       "      <th>source_c</th>\n",
       "      <th>source_b</th>\n",
       "      <th>source_d</th>\n",
       "      <th>source_e</th>\n",
       "      <th>source_m</th>\n",
       "      <th>source_o</th>\n",
       "      <th>source_h</th>\n",
       "      <th>...</th>\n",
       "      <th>source_x</th>\n",
       "      <th>source_w</th>\n",
       "      <th>Freq</th>\n",
       "      <th>last_update_days_ago</th>\n",
       "      <th>1st_update_days_ago</th>\n",
       "      <th>Web order</th>\n",
       "      <th>Gender=male</th>\n",
       "      <th>Address_is_res</th>\n",
       "      <th>Purchase</th>\n",
       "      <th>Spending</th>\n",
       "    </tr>\n",
       "  </thead>\n",
       "  <tbody>\n",
       "    <tr>\n",
       "      <th>0</th>\n",
       "      <td>1</td>\n",
       "      <td>1</td>\n",
       "      <td>0</td>\n",
       "      <td>0</td>\n",
       "      <td>1</td>\n",
       "      <td>0</td>\n",
       "      <td>0</td>\n",
       "      <td>0</td>\n",
       "      <td>0</td>\n",
       "      <td>0</td>\n",
       "      <td>...</td>\n",
       "      <td>0</td>\n",
       "      <td>0</td>\n",
       "      <td>2</td>\n",
       "      <td>3662</td>\n",
       "      <td>3662</td>\n",
       "      <td>1</td>\n",
       "      <td>0</td>\n",
       "      <td>1</td>\n",
       "      <td>1</td>\n",
       "      <td>127.87</td>\n",
       "    </tr>\n",
       "    <tr>\n",
       "      <th>1</th>\n",
       "      <td>2</td>\n",
       "      <td>1</td>\n",
       "      <td>0</td>\n",
       "      <td>0</td>\n",
       "      <td>0</td>\n",
       "      <td>0</td>\n",
       "      <td>1</td>\n",
       "      <td>0</td>\n",
       "      <td>0</td>\n",
       "      <td>0</td>\n",
       "      <td>...</td>\n",
       "      <td>0</td>\n",
       "      <td>0</td>\n",
       "      <td>0</td>\n",
       "      <td>2900</td>\n",
       "      <td>2900</td>\n",
       "      <td>1</td>\n",
       "      <td>1</td>\n",
       "      <td>0</td>\n",
       "      <td>0</td>\n",
       "      <td>0.00</td>\n",
       "    </tr>\n",
       "    <tr>\n",
       "      <th>2</th>\n",
       "      <td>3</td>\n",
       "      <td>1</td>\n",
       "      <td>0</td>\n",
       "      <td>0</td>\n",
       "      <td>0</td>\n",
       "      <td>0</td>\n",
       "      <td>0</td>\n",
       "      <td>0</td>\n",
       "      <td>0</td>\n",
       "      <td>0</td>\n",
       "      <td>...</td>\n",
       "      <td>0</td>\n",
       "      <td>0</td>\n",
       "      <td>2</td>\n",
       "      <td>3883</td>\n",
       "      <td>3914</td>\n",
       "      <td>0</td>\n",
       "      <td>0</td>\n",
       "      <td>0</td>\n",
       "      <td>1</td>\n",
       "      <td>127.48</td>\n",
       "    </tr>\n",
       "    <tr>\n",
       "      <th>3</th>\n",
       "      <td>4</td>\n",
       "      <td>1</td>\n",
       "      <td>0</td>\n",
       "      <td>1</td>\n",
       "      <td>0</td>\n",
       "      <td>0</td>\n",
       "      <td>0</td>\n",
       "      <td>0</td>\n",
       "      <td>0</td>\n",
       "      <td>0</td>\n",
       "      <td>...</td>\n",
       "      <td>0</td>\n",
       "      <td>0</td>\n",
       "      <td>1</td>\n",
       "      <td>829</td>\n",
       "      <td>829</td>\n",
       "      <td>0</td>\n",
       "      <td>1</td>\n",
       "      <td>0</td>\n",
       "      <td>0</td>\n",
       "      <td>0.00</td>\n",
       "    </tr>\n",
       "    <tr>\n",
       "      <th>4</th>\n",
       "      <td>5</td>\n",
       "      <td>1</td>\n",
       "      <td>0</td>\n",
       "      <td>1</td>\n",
       "      <td>0</td>\n",
       "      <td>0</td>\n",
       "      <td>0</td>\n",
       "      <td>0</td>\n",
       "      <td>0</td>\n",
       "      <td>0</td>\n",
       "      <td>...</td>\n",
       "      <td>0</td>\n",
       "      <td>0</td>\n",
       "      <td>1</td>\n",
       "      <td>869</td>\n",
       "      <td>869</td>\n",
       "      <td>0</td>\n",
       "      <td>0</td>\n",
       "      <td>0</td>\n",
       "      <td>0</td>\n",
       "      <td>0.00</td>\n",
       "    </tr>\n",
       "  </tbody>\n",
       "</table>\n",
       "<p>5 rows × 25 columns</p>\n",
       "</div>"
      ],
      "text/plain": [
       "   sequence_number  US  source_a  source_c  source_b  source_d  source_e  \\\n",
       "0                1   1         0         0         1         0         0   \n",
       "1                2   1         0         0         0         0         1   \n",
       "2                3   1         0         0         0         0         0   \n",
       "3                4   1         0         1         0         0         0   \n",
       "4                5   1         0         1         0         0         0   \n",
       "\n",
       "   source_m  source_o  source_h  ...  source_x  source_w  Freq  \\\n",
       "0         0         0         0  ...         0         0     2   \n",
       "1         0         0         0  ...         0         0     0   \n",
       "2         0         0         0  ...         0         0     2   \n",
       "3         0         0         0  ...         0         0     1   \n",
       "4         0         0         0  ...         0         0     1   \n",
       "\n",
       "   last_update_days_ago  1st_update_days_ago  Web order  Gender=male  \\\n",
       "0                  3662                 3662          1            0   \n",
       "1                  2900                 2900          1            1   \n",
       "2                  3883                 3914          0            0   \n",
       "3                   829                  829          0            1   \n",
       "4                   869                  869          0            0   \n",
       "\n",
       "   Address_is_res  Purchase  Spending  \n",
       "0               1         1    127.87  \n",
       "1               0         0      0.00  \n",
       "2               0         1    127.48  \n",
       "3               0         0      0.00  \n",
       "4               0         0      0.00  \n",
       "\n",
       "[5 rows x 25 columns]"
      ]
     },
     "execution_count": 70,
     "metadata": {},
     "output_type": "execute_result"
    }
   ],
   "source": [
    "HW3.head()"
   ]
  },
  {
   "cell_type": "code",
   "execution_count": 137,
   "id": "9e49101b",
   "metadata": {},
   "outputs": [
    {
     "data": {
      "text/plain": [
       "0    1000\n",
       "1    1000\n",
       "Name: Purchase, dtype: int64"
      ]
     },
     "execution_count": 137,
     "metadata": {},
     "output_type": "execute_result"
    }
   ],
   "source": [
    "#HW3.describe()\n",
    "HW3['Purchase'].value_counts()"
   ]
  },
  {
   "cell_type": "code",
   "execution_count": 135,
   "id": "b9269698",
   "metadata": {},
   "outputs": [
    {
     "data": {
      "text/plain": [
       "<AxesSubplot:>"
      ]
     },
     "execution_count": 135,
     "metadata": {},
     "output_type": "execute_result"
    },
    {
     "data": {
      "image/png": "[encoded data removed]",
      "text/plain": [
       "<Figure size 432x288 with 2 Axes>"
      ]
     },
     "metadata": {
      "needs_background": "light"
     },
     "output_type": "display_data"
    }
   ],
   "source": [
    "import seaborn as sns\n",
    "\n",
    "corr = HW3.corr()\n",
    "sns.heatmap(corr,xticklabels=corr.columns,yticklabels=corr.columns)"
   ]
  },
  {
   "cell_type": "markdown",
   "id": "914bd6ba",
   "metadata": {},
   "source": [
    "(10 points) After you import the dataset on Rapidminer and you specify any special roles (e.g., target variable) and feature types, please show a screenshot of the Statistics of the imported dataset. Please clearly indicate what attributes you will not use to build the predictive models and briefly explain why.\n"
   ]
  },
  {
   "cell_type": "code",
   "execution_count": 155,
   "id": "f82fb6c9",
   "metadata": {},
   "outputs": [],
   "source": [
    "X = HW3.drop(['Spending','Purchase'],axis=1)\n",
    "y = HW3['Spending']"
   ]
  },
  {
   "cell_type": "markdown",
   "id": "691f14a3",
   "metadata": {},
   "source": [
    "## Linear Regression"
   ]
  },
  {
   "cell_type": "code",
   "execution_count": 12,
   "id": "76c44e2b",
   "metadata": {},
   "outputs": [],
   "source": [
    "# This script illustrates how to solve a simple regression task using Python and scikit-learn. \n",
    "\n",
    "%matplotlib inline\n",
    "# import necessary libraries and specify that graphs should be plotted inline.\n",
    "from sklearn import datasets\n",
    "from sklearn.model_selection import train_test_split\n",
    "from sklearn import linear_model\n",
    "import matplotlib.pyplot as plt"
   ]
  },
  {
   "cell_type": "code",
   "execution_count": 48,
   "id": "87e2caca",
   "metadata": {},
   "outputs": [],
   "source": [
    "#train and test set\n",
    "\n",
    "X_train, X_test, y_train, y_test = train_test_split(X,y,test_size = 0.3, random_state = 1)\n",
    "#linear regression model\n",
    "lr = linear_model.LinearRegression()\n",
    "\n",
    "#fit model to train data\n",
    "lr.fit(X_train,y_train)\n",
    "\n",
    "#predict model to train data\n",
    "y_train_pred = lr.predict(X_train)\n",
    "y_test_pred = lr.predict(X_test)"
   ]
  },
  {
   "cell_type": "code",
   "execution_count": 49,
   "id": "34991714",
   "metadata": {},
   "outputs": [
    {
     "name": "stdout",
     "output_type": "stream",
     "text": [
      "Slope: -0.009\n",
      "Intercept: 8.510\n"
     ]
    }
   ],
   "source": [
    "# estimated coefficients for the linear regression model\n",
    "print('Slope: %.3f' % lr.coef_[0])            \n",
    "# estimated intercept for the linear regression model\n",
    "print('Intercept: %.3f' % lr.intercept_)   "
   ]
  },
  {
   "cell_type": "code",
   "execution_count": 50,
   "id": "ef0c208f",
   "metadata": {},
   "outputs": [
    {
     "name": "stdout",
     "output_type": "stream",
     "text": [
      "RMSE train: 117.803, test: 145.154\n"
     ]
    }
   ],
   "source": [
    "#RMSE:\n",
    "from sklearn.metrics import mean_squared_error  # mean squared error regression loss\n",
    "\n",
    "print('RMSE train: %.3f, test: %.3f' % ( # mean_absolute_error\n",
    "        mean_squared_error(y_train, y_train_pred,squared=False),\n",
    "        mean_squared_error(y_test, y_test_pred,squared=False)))  # y_test: Ground truth (correct) target values\n",
    "                                                   # y_test_pred: Estimated target values"
   ]
  },
  {
   "cell_type": "markdown",
   "id": "71ec6247",
   "metadata": {},
   "source": [
    "## Lasso"
   ]
  },
  {
   "cell_type": "code",
   "execution_count": 56,
   "id": "f7d6f9e0",
   "metadata": {},
   "outputs": [],
   "source": [
    "from sklearn.linear_model import Lasso # lasso Regression class\n",
    "from sklearn.preprocessing import StandardScaler # standardize features by removing the mean and scaling to unit variance\n",
    "                                                 # the standard score of a sample x is calculated as: z = (x - u) / s\n",
    "                                                # where u is the mean of the training sample , and s is the standard deviation of the training sample.\n",
    "                                                 # centering and scaling happens independently on each feature."
   ]
  },
  {
   "cell_type": "code",
   "execution_count": 59,
   "id": "ca816534",
   "metadata": {},
   "outputs": [],
   "source": [
    "X_train, X_test, y_train, y_test = train_test_split(X,y,test_size = 0.3, random_state = 1)"
   ]
  },
  {
   "cell_type": "code",
   "execution_count": 60,
   "id": "f83eb001",
   "metadata": {},
   "outputs": [
    {
     "name": "stdout",
     "output_type": "stream",
     "text": [
      "[ -4.91573333  -0.64298327  13.69556983  -9.56896491  -0.67249477\n",
      "  -3.92356296  -3.18949329   1.19768326   3.38231858 -20.69305723\n",
      "   5.06882922  -0.78779562  -2.45804181   7.76050951  -1.21109025\n",
      "  -0.20436088   8.75787912 126.70658987 -18.84284719   8.80972671\n",
      "   6.79441737  -4.83282808 -24.33951374]\n"
     ]
    }
   ],
   "source": [
    "lasso = Lasso(alpha=0.1)   # alpha : constant that multiplies the L1 term, controlling regularization strength \n",
    "                           # the larger the value of alpha, the more aggressive the penalization is.\n",
    "                           # alpha defaults to 1.0 \n",
    "                           # alpha = 0 is equivalent to an ordinary least square Linear Regression \n",
    "# Scale features\n",
    "scaler = StandardScaler()\n",
    "X_train = scaler.fit_transform(X_train)         # computes the mean and std to be used for scaling and performs scaling\n",
    "X_test = scaler.transform(X_test)               # performs standardization of test set X attributes by centering and scaling\n",
    "\n",
    "lasso.fit(X_train, y_train)                     # fit model to data\n",
    "y_train_pred_lasso = lasso.predict(X_train)           # apply model to train data\n",
    "y_test_pred_lasso = lasso.predict(X_test)             # apply model to test data\n",
    "print(lasso.coef_)                              # estimated coefficients for the lasso regression model"
   ]
  },
  {
   "cell_type": "code",
   "execution_count": 61,
   "id": "58f7b031",
   "metadata": {},
   "outputs": [
    {
     "name": "stdout",
     "output_type": "stream",
     "text": [
      "RMSE train: 117.804, test: 145.131\n"
     ]
    }
   ],
   "source": [
    "print('RMSE train: %.3f, test: %.3f' % ( # mean_absolute_error\n",
    "        mean_squared_error(y_train, y_train_pred_lasso,squared=False),\n",
    "        mean_squared_error(y_test, y_test_pred_lasso,squared=False)))  # y_test: Ground truth (correct) target values\n",
    "                                                   # y_test_pred: Estimated target values"
   ]
  },
  {
   "cell_type": "markdown",
   "id": "a7b7575b",
   "metadata": {},
   "source": [
    "## Ridge"
   ]
  },
  {
   "cell_type": "code",
   "execution_count": 62,
   "id": "351a5b0e",
   "metadata": {},
   "outputs": [],
   "source": [
    "from sklearn.linear_model import Ridge # ridge Regression class"
   ]
  },
  {
   "cell_type": "code",
   "execution_count": 63,
   "id": "5183dea9",
   "metadata": {},
   "outputs": [
    {
     "name": "stdout",
     "output_type": "stream",
     "text": [
      "[ -5.0120003   -0.73652493  13.59433722  -9.72643821  -0.89370779\n",
      "  -4.09425998  -3.43499894   1.27363342   3.3011761  -20.75164044\n",
      "   5.07423315  -0.94711032  -2.61980391   7.68944348  -1.37289797\n",
      "  -0.35060998   8.77674606 126.37957072 -19.62577808   9.67072032\n",
      "   6.88694205  -4.93900875 -24.41740687]\n"
     ]
    }
   ],
   "source": [
    "ridge = Ridge(alpha=1.0)               # regularization strength; must be a positive float. \n",
    "                                       # larger values specify stronger regularization. \n",
    "                                       # alpha corresponds to C^-1 in other linear models such as LogisticRegression\n",
    "\n",
    "ridge.fit(X_train, y_train)            # fit model (features have been scaled)\n",
    "y_train_pred_ridge = ridge.predict(X_train)  # apply model to train data\n",
    "y_test_pred_ridge = ridge.predict(X_test)    # apply model to test data\n",
    "print(ridge.coef_)                     # estimated coefficients for the ridge regression model\n"
   ]
  },
  {
   "cell_type": "code",
   "execution_count": 65,
   "id": "690027cc",
   "metadata": {},
   "outputs": [
    {
     "name": "stdout",
     "output_type": "stream",
     "text": [
      "RMSE train: 117.803, test: 145.161\n"
     ]
    }
   ],
   "source": [
    "print('RMSE train: %.3f, test: %.3f' % ( # mean_absolute_error\n",
    "        mean_squared_error(y_train, y_train_pred_ridge,squared=False),\n",
    "        mean_squared_error(y_test, y_test_pred_ridge,squared=False)))  # y_test: Ground truth (correct) target values\n",
    "                                                   # y_test_pred: Estimated target values"
   ]
  },
  {
   "cell_type": "markdown",
   "id": "2c7ac4b1",
   "metadata": {},
   "source": [
    "## k-NN"
   ]
  },
  {
   "cell_type": "code",
   "execution_count": 66,
   "id": "68e6ea7e",
   "metadata": {},
   "outputs": [],
   "source": [
    "from sklearn import neighbors\n",
    "from sklearn.neighbors import KNeighborsRegressor\n",
    "from sklearn.preprocessing import MinMaxScaler\n",
    "from sklearn.metrics import mean_squared_error \n",
    "from math import sqrt"
   ]
  },
  {
   "cell_type": "code",
   "execution_count": 171,
   "id": "f64e9a66",
   "metadata": {},
   "outputs": [
    {
     "data": {
      "text/html": [
       "<div>\n",
       "<style scoped>\n",
       "    .dataframe tbody tr th:only-of-type {\n",
       "        vertical-align: middle;\n",
       "    }\n",
       "\n",
       "    .dataframe tbody tr th {\n",
       "        vertical-align: top;\n",
       "    }\n",
       "\n",
       "    .dataframe thead th {\n",
       "        text-align: right;\n",
       "    }\n",
       "</style>\n",
       "<table border=\"1\" class=\"dataframe\">\n",
       "  <thead>\n",
       "    <tr style=\"text-align: right;\">\n",
       "      <th></th>\n",
       "      <th>sequence_number</th>\n",
       "      <th>US</th>\n",
       "      <th>source_a</th>\n",
       "      <th>source_c</th>\n",
       "      <th>source_b</th>\n",
       "      <th>source_d</th>\n",
       "      <th>source_e</th>\n",
       "      <th>source_m</th>\n",
       "      <th>source_o</th>\n",
       "      <th>source_h</th>\n",
       "      <th>...</th>\n",
       "      <th>source_x</th>\n",
       "      <th>source_w</th>\n",
       "      <th>Freq</th>\n",
       "      <th>last_update_days_ago</th>\n",
       "      <th>1st_update_days_ago</th>\n",
       "      <th>Web order</th>\n",
       "      <th>Gender=male</th>\n",
       "      <th>Address_is_res</th>\n",
       "      <th>Purchase</th>\n",
       "      <th>Spending</th>\n",
       "    </tr>\n",
       "  </thead>\n",
       "  <tbody>\n",
       "    <tr>\n",
       "      <th>0</th>\n",
       "      <td>0.0005</td>\n",
       "      <td>1.0</td>\n",
       "      <td>0.0</td>\n",
       "      <td>0.0</td>\n",
       "      <td>1.0</td>\n",
       "      <td>0.0</td>\n",
       "      <td>0.0</td>\n",
       "      <td>0.0</td>\n",
       "      <td>0.0</td>\n",
       "      <td>0.0</td>\n",
       "      <td>...</td>\n",
       "      <td>0.0</td>\n",
       "      <td>0.0</td>\n",
       "      <td>0.133333</td>\n",
       "      <td>0.874403</td>\n",
       "      <td>0.874403</td>\n",
       "      <td>1.0</td>\n",
       "      <td>0.0</td>\n",
       "      <td>1.0</td>\n",
       "      <td>1.0</td>\n",
       "      <td>0.085243</td>\n",
       "    </tr>\n",
       "    <tr>\n",
       "      <th>1</th>\n",
       "      <td>0.0010</td>\n",
       "      <td>1.0</td>\n",
       "      <td>0.0</td>\n",
       "      <td>0.0</td>\n",
       "      <td>0.0</td>\n",
       "      <td>0.0</td>\n",
       "      <td>1.0</td>\n",
       "      <td>0.0</td>\n",
       "      <td>0.0</td>\n",
       "      <td>0.0</td>\n",
       "      <td>...</td>\n",
       "      <td>0.0</td>\n",
       "      <td>0.0</td>\n",
       "      <td>0.000000</td>\n",
       "      <td>0.692455</td>\n",
       "      <td>0.692455</td>\n",
       "      <td>1.0</td>\n",
       "      <td>1.0</td>\n",
       "      <td>0.0</td>\n",
       "      <td>0.0</td>\n",
       "      <td>0.000000</td>\n",
       "    </tr>\n",
       "    <tr>\n",
       "      <th>2</th>\n",
       "      <td>0.0015</td>\n",
       "      <td>1.0</td>\n",
       "      <td>0.0</td>\n",
       "      <td>0.0</td>\n",
       "      <td>0.0</td>\n",
       "      <td>0.0</td>\n",
       "      <td>0.0</td>\n",
       "      <td>0.0</td>\n",
       "      <td>0.0</td>\n",
       "      <td>0.0</td>\n",
       "      <td>...</td>\n",
       "      <td>0.0</td>\n",
       "      <td>0.0</td>\n",
       "      <td>0.133333</td>\n",
       "      <td>0.927173</td>\n",
       "      <td>0.934575</td>\n",
       "      <td>0.0</td>\n",
       "      <td>0.0</td>\n",
       "      <td>0.0</td>\n",
       "      <td>1.0</td>\n",
       "      <td>0.084983</td>\n",
       "    </tr>\n",
       "    <tr>\n",
       "      <th>3</th>\n",
       "      <td>0.0020</td>\n",
       "      <td>1.0</td>\n",
       "      <td>0.0</td>\n",
       "      <td>1.0</td>\n",
       "      <td>0.0</td>\n",
       "      <td>0.0</td>\n",
       "      <td>0.0</td>\n",
       "      <td>0.0</td>\n",
       "      <td>0.0</td>\n",
       "      <td>0.0</td>\n",
       "      <td>...</td>\n",
       "      <td>0.0</td>\n",
       "      <td>0.0</td>\n",
       "      <td>0.066667</td>\n",
       "      <td>0.197947</td>\n",
       "      <td>0.197947</td>\n",
       "      <td>0.0</td>\n",
       "      <td>1.0</td>\n",
       "      <td>0.0</td>\n",
       "      <td>0.0</td>\n",
       "      <td>0.000000</td>\n",
       "    </tr>\n",
       "    <tr>\n",
       "      <th>4</th>\n",
       "      <td>0.0025</td>\n",
       "      <td>1.0</td>\n",
       "      <td>0.0</td>\n",
       "      <td>1.0</td>\n",
       "      <td>0.0</td>\n",
       "      <td>0.0</td>\n",
       "      <td>0.0</td>\n",
       "      <td>0.0</td>\n",
       "      <td>0.0</td>\n",
       "      <td>0.0</td>\n",
       "      <td>...</td>\n",
       "      <td>0.0</td>\n",
       "      <td>0.0</td>\n",
       "      <td>0.066667</td>\n",
       "      <td>0.207498</td>\n",
       "      <td>0.207498</td>\n",
       "      <td>0.0</td>\n",
       "      <td>0.0</td>\n",
       "      <td>0.0</td>\n",
       "      <td>0.0</td>\n",
       "      <td>0.000000</td>\n",
       "    </tr>\n",
       "    <tr>\n",
       "      <th>...</th>\n",
       "      <td>...</td>\n",
       "      <td>...</td>\n",
       "      <td>...</td>\n",
       "      <td>...</td>\n",
       "      <td>...</td>\n",
       "      <td>...</td>\n",
       "      <td>...</td>\n",
       "      <td>...</td>\n",
       "      <td>...</td>\n",
       "      <td>...</td>\n",
       "      <td>...</td>\n",
       "      <td>...</td>\n",
       "      <td>...</td>\n",
       "      <td>...</td>\n",
       "      <td>...</td>\n",
       "      <td>...</td>\n",
       "      <td>...</td>\n",
       "      <td>...</td>\n",
       "      <td>...</td>\n",
       "      <td>...</td>\n",
       "      <td>...</td>\n",
       "    </tr>\n",
       "    <tr>\n",
       "      <th>1995</th>\n",
       "      <td>0.9980</td>\n",
       "      <td>1.0</td>\n",
       "      <td>0.0</td>\n",
       "      <td>0.0</td>\n",
       "      <td>0.0</td>\n",
       "      <td>0.0</td>\n",
       "      <td>0.0</td>\n",
       "      <td>0.0</td>\n",
       "      <td>0.0</td>\n",
       "      <td>0.0</td>\n",
       "      <td>...</td>\n",
       "      <td>0.0</td>\n",
       "      <td>0.0</td>\n",
       "      <td>0.066667</td>\n",
       "      <td>0.406160</td>\n",
       "      <td>0.406160</td>\n",
       "      <td>1.0</td>\n",
       "      <td>0.0</td>\n",
       "      <td>0.0</td>\n",
       "      <td>1.0</td>\n",
       "      <td>0.019666</td>\n",
       "    </tr>\n",
       "    <tr>\n",
       "      <th>1996</th>\n",
       "      <td>0.9985</td>\n",
       "      <td>1.0</td>\n",
       "      <td>0.0</td>\n",
       "      <td>0.0</td>\n",
       "      <td>0.0</td>\n",
       "      <td>0.0</td>\n",
       "      <td>0.0</td>\n",
       "      <td>0.0</td>\n",
       "      <td>0.0</td>\n",
       "      <td>0.0</td>\n",
       "      <td>...</td>\n",
       "      <td>0.0</td>\n",
       "      <td>0.0</td>\n",
       "      <td>0.066667</td>\n",
       "      <td>0.628701</td>\n",
       "      <td>0.628701</td>\n",
       "      <td>1.0</td>\n",
       "      <td>1.0</td>\n",
       "      <td>0.0</td>\n",
       "      <td>1.0</td>\n",
       "      <td>0.006666</td>\n",
       "    </tr>\n",
       "    <tr>\n",
       "      <th>1997</th>\n",
       "      <td>0.9990</td>\n",
       "      <td>1.0</td>\n",
       "      <td>0.0</td>\n",
       "      <td>0.0</td>\n",
       "      <td>0.0</td>\n",
       "      <td>0.0</td>\n",
       "      <td>0.0</td>\n",
       "      <td>0.0</td>\n",
       "      <td>0.0</td>\n",
       "      <td>0.0</td>\n",
       "      <td>...</td>\n",
       "      <td>0.0</td>\n",
       "      <td>0.0</td>\n",
       "      <td>0.000000</td>\n",
       "      <td>0.810411</td>\n",
       "      <td>0.810411</td>\n",
       "      <td>0.0</td>\n",
       "      <td>0.0</td>\n",
       "      <td>0.0</td>\n",
       "      <td>0.0</td>\n",
       "      <td>0.000000</td>\n",
       "    </tr>\n",
       "    <tr>\n",
       "      <th>1998</th>\n",
       "      <td>0.9995</td>\n",
       "      <td>1.0</td>\n",
       "      <td>0.0</td>\n",
       "      <td>0.0</td>\n",
       "      <td>0.0</td>\n",
       "      <td>0.0</td>\n",
       "      <td>0.0</td>\n",
       "      <td>0.0</td>\n",
       "      <td>0.0</td>\n",
       "      <td>0.0</td>\n",
       "      <td>...</td>\n",
       "      <td>0.0</td>\n",
       "      <td>1.0</td>\n",
       "      <td>0.066667</td>\n",
       "      <td>0.060411</td>\n",
       "      <td>0.060411</td>\n",
       "      <td>0.0</td>\n",
       "      <td>1.0</td>\n",
       "      <td>1.0</td>\n",
       "      <td>0.0</td>\n",
       "      <td>0.000040</td>\n",
       "    </tr>\n",
       "    <tr>\n",
       "      <th>1999</th>\n",
       "      <td>1.0000</td>\n",
       "      <td>1.0</td>\n",
       "      <td>0.0</td>\n",
       "      <td>0.0</td>\n",
       "      <td>0.0</td>\n",
       "      <td>0.0</td>\n",
       "      <td>0.0</td>\n",
       "      <td>0.0</td>\n",
       "      <td>0.0</td>\n",
       "      <td>0.0</td>\n",
       "      <td>...</td>\n",
       "      <td>0.0</td>\n",
       "      <td>0.0</td>\n",
       "      <td>0.066667</td>\n",
       "      <td>0.301098</td>\n",
       "      <td>0.440306</td>\n",
       "      <td>0.0</td>\n",
       "      <td>0.0</td>\n",
       "      <td>0.0</td>\n",
       "      <td>0.0</td>\n",
       "      <td>0.000093</td>\n",
       "    </tr>\n",
       "  </tbody>\n",
       "</table>\n",
       "<p>2000 rows × 25 columns</p>\n",
       "</div>"
      ],
      "text/plain": [
       "      sequence_number   US  source_a  source_c  source_b  source_d  source_e  \\\n",
       "0              0.0005  1.0       0.0       0.0       1.0       0.0       0.0   \n",
       "1              0.0010  1.0       0.0       0.0       0.0       0.0       1.0   \n",
       "2              0.0015  1.0       0.0       0.0       0.0       0.0       0.0   \n",
       "3              0.0020  1.0       0.0       1.0       0.0       0.0       0.0   \n",
       "4              0.0025  1.0       0.0       1.0       0.0       0.0       0.0   \n",
       "...               ...  ...       ...       ...       ...       ...       ...   \n",
       "1995           0.9980  1.0       0.0       0.0       0.0       0.0       0.0   \n",
       "1996           0.9985  1.0       0.0       0.0       0.0       0.0       0.0   \n",
       "1997           0.9990  1.0       0.0       0.0       0.0       0.0       0.0   \n",
       "1998           0.9995  1.0       0.0       0.0       0.0       0.0       0.0   \n",
       "1999           1.0000  1.0       0.0       0.0       0.0       0.0       0.0   \n",
       "\n",
       "      source_m  source_o  source_h  ...  source_x  source_w      Freq  \\\n",
       "0          0.0       0.0       0.0  ...       0.0       0.0  0.133333   \n",
       "1          0.0       0.0       0.0  ...       0.0       0.0  0.000000   \n",
       "2          0.0       0.0       0.0  ...       0.0       0.0  0.133333   \n",
       "3          0.0       0.0       0.0  ...       0.0       0.0  0.066667   \n",
       "4          0.0       0.0       0.0  ...       0.0       0.0  0.066667   \n",
       "...        ...       ...       ...  ...       ...       ...       ...   \n",
       "1995       0.0       0.0       0.0  ...       0.0       0.0  0.066667   \n",
       "1996       0.0       0.0       0.0  ...       0.0       0.0  0.066667   \n",
       "1997       0.0       0.0       0.0  ...       0.0       0.0  0.000000   \n",
       "1998       0.0       0.0       0.0  ...       0.0       1.0  0.066667   \n",
       "1999       0.0       0.0       0.0  ...       0.0       0.0  0.066667   \n",
       "\n",
       "      last_update_days_ago  1st_update_days_ago  Web order  Gender=male  \\\n",
       "0                 0.874403             0.874403        1.0          0.0   \n",
       "1                 0.692455             0.692455        1.0          1.0   \n",
       "2                 0.927173             0.934575        0.0          0.0   \n",
       "3                 0.197947             0.197947        0.0          1.0   \n",
       "4                 0.207498             0.207498        0.0          0.0   \n",
       "...                    ...                  ...        ...          ...   \n",
       "1995              0.406160             0.406160        1.0          0.0   \n",
       "1996              0.628701             0.628701        1.0          1.0   \n",
       "1997              0.810411             0.810411        0.0          0.0   \n",
       "1998              0.060411             0.060411        0.0          1.0   \n",
       "1999              0.301098             0.440306        0.0          0.0   \n",
       "\n",
       "      Address_is_res  Purchase  Spending  \n",
       "0                1.0       1.0  0.085243  \n",
       "1                0.0       0.0  0.000000  \n",
       "2                0.0       1.0  0.084983  \n",
       "3                0.0       0.0  0.000000  \n",
       "4                0.0       0.0  0.000000  \n",
       "...              ...       ...       ...  \n",
       "1995             0.0       1.0  0.019666  \n",
       "1996             0.0       1.0  0.006666  \n",
       "1997             0.0       0.0  0.000000  \n",
       "1998             1.0       0.0  0.000040  \n",
       "1999             0.0       0.0  0.000093  \n",
       "\n",
       "[2000 rows x 25 columns]"
      ]
     },
     "metadata": {},
     "output_type": "display_data"
    }
   ],
   "source": [
    "HW3_max_scaled = HW3.copy()\n",
    "  \n",
    "# apply normalization techniques\n",
    "for column in HW3_max_scaled.columns:\n",
    "    HW3_max_scaled[column] = HW3_max_scaled[column]  / HW3_max_scaled[column].abs().max()"
   ]
  },
  {
   "cell_type": "code",
   "execution_count": 177,
   "id": "f1f47d40",
   "metadata": {},
   "outputs": [],
   "source": [
    "X = HW3_max_scaled.drop(['Spending','Purchase'],axis=1)\n",
    "y = HW3['Spending']\n",
    "#split dataset into train and test data\n",
    "X_train, X_test, y_train, y_test = train_test_split(X, \n",
    "                                                    y, \n",
    "                                                    test_size=0.2, \n",
    "                                                    random_state=42)\n"
   ]
  },
  {
   "cell_type": "code",
   "execution_count": 187,
   "id": "7cd0ce11",
   "metadata": {},
   "outputs": [
    {
     "name": "stdout",
     "output_type": "stream",
     "text": [
      "RMSE value is: 193.16683043586673\n"
     ]
    }
   ],
   "source": [
    "#3NN regressor\n",
    "knn_regressor = neighbors.KNeighborsRegressor(n_neighbors = 3)\n",
    "\n",
    "#Fit and Evaluate Model\n",
    "knn_regressor.fit(X_train, y_train)        # fit the model\n",
    "pred=knn_regressor.predict(X_test)         # make prediction on test set\n",
    "error = sqrt(mean_squared_error(y_test,pred)) # calculate rmse on test set\n",
    "\n",
    "print('RMSE value is:', error)"
   ]
  },
  {
   "cell_type": "code",
   "execution_count": 180,
   "id": "aaf68238",
   "metadata": {},
   "outputs": [
    {
     "name": "stdout",
     "output_type": "stream",
     "text": [
      "RMSE value is: 178.14032510363845\n"
     ]
    }
   ],
   "source": [
    "#5NN regressor\n",
    "knn_regressor = neighbors.KNeighborsRegressor(n_neighbors = 5)\n",
    "\n",
    "#Fit and Evaluate Model\n",
    "knn_regressor.fit(X_train, y_train)        # fit the model\n",
    "pred=knn_regressor.predict(X_test)         # make prediction on test set\n",
    "error = sqrt(mean_squared_error(y_test,pred)) # calculate rmse on test set\n",
    "\n",
    "print('RMSE value is:', error)"
   ]
  },
  {
   "cell_type": "code",
   "execution_count": 185,
   "id": "b83ce720",
   "metadata": {},
   "outputs": [
    {
     "name": "stdout",
     "output_type": "stream",
     "text": [
      "RMSE value is: 180.3423176014006\n"
     ]
    }
   ],
   "source": [
    "#15NN regressor\n",
    "knn_regressor = neighbors.KNeighborsRegressor(n_neighbors = 15)\n",
    "\n",
    "#Fit and Evaluate Model\n",
    "knn_regressor.fit(X_train, y_train)        # fit the model\n",
    "pred=knn_regressor.predict(X_test)         # make prediction on test set\n",
    "error = sqrt(mean_squared_error(y_test,pred)) # calculate rmse on test set\n",
    "\n",
    "print('RMSE value is:', error)"
   ]
  },
  {
   "cell_type": "code",
   "execution_count": null,
   "id": "5bf2ee7c",
   "metadata": {},
   "outputs": [],
   "source": [
    "from mlxtend.feature_selection import SequentialFeatureSelector as SFS"
   ]
  },
  {
   "cell_type": "code",
   "execution_count": null,
   "id": "ca364fa8",
   "metadata": {},
   "outputs": [],
   "source": [
    "#%pip install mlxtend"
   ]
  },
  {
   "cell_type": "code",
   "execution_count": 126,
   "id": "a135efd0",
   "metadata": {},
   "outputs": [],
   "source": [
    "from mlxtend.feature_selection import SequentialFeatureSelector as SFS"
   ]
  },
  {
   "cell_type": "code",
   "execution_count": 125,
   "id": "0df43b0e",
   "metadata": {},
   "outputs": [],
   "source": [
    "# https://rasbt.github.io/mlxtend/user_guide/feature_selection/SequentialFeatureSelector/"
   ]
  },
  {
   "cell_type": "code",
   "execution_count": 130,
   "id": "9ec248f6",
   "metadata": {},
   "outputs": [],
   "source": [
    "# Create a forward fit model\n",
    "sfs1 = SFS(lr, \n",
    "          k_features=(1,23), \n",
    "          forward=True, # Forward fit\n",
    "          floating=True, \n",
    "          scoring='neg_mean_squared_error',\n",
    "          cv=5)"
   ]
  },
  {
   "cell_type": "code",
   "execution_count": 131,
   "id": "4614401e",
   "metadata": {},
   "outputs": [
    {
     "name": "stdout",
     "output_type": "stream",
     "text": [
      "('US', 'source_a', 'source_c', 'source_o', 'source_h', 'source_r', 'source_u', 'Freq', 'last_update_days_ago', 'Web order', 'Address_is_res')\n",
      "rmse:  127.88131560389964\n"
     ]
    }
   ],
   "source": [
    "fit1 = sfs1.fit(X, y)\n",
    "names=fit1.k_feature_names_\n",
    "print(names)\n",
    "mse=fit1.k_score_\n",
    "rmse=sqrt(-mse)\n",
    "print(\"rmse: \",rmse)"
   ]
  },
  {
   "cell_type": "code",
   "execution_count": 132,
   "id": "61d439fd",
   "metadata": {},
   "outputs": [],
   "source": [
    "# Create a backward fit model\n",
    "sfs2 = SFS(lr, \n",
    "          k_features=(1,23), \n",
    "          forward=False, # backward fit\n",
    "          floating=True, \n",
    "          scoring='neg_mean_squared_error',\n",
    "          cv=5)"
   ]
  },
  {
   "cell_type": "code",
   "execution_count": 133,
   "id": "892bc07a",
   "metadata": {},
   "outputs": [
    {
     "name": "stdout",
     "output_type": "stream",
     "text": [
      "('US', 'source_a', 'source_c', 'source_o', 'source_h', 'source_r', 'source_u', 'Freq', 'last_update_days_ago', 'Web order', 'Address_is_res')\n",
      "rmse:  127.88131560389964\n"
     ]
    }
   ],
   "source": [
    "fit2 = sfs2.fit(X, y)\n",
    "names=fit2.k_feature_names_\n",
    "print(names)\n",
    "mse=fit2.k_score_\n",
    "rmse=sqrt(-mse)\n",
    "print(\"rmse: \",rmse)"
   ]
  },
  {
   "cell_type": "markdown",
   "id": "33fe4dde",
   "metadata": {},
   "source": [
    "(10 points) In step (b), suppose your colleague includes the Purchase attribute as a predictor when building predictive models for the target variable “Spending”. Do you think this is a good choice? Please justify your opinion."
   ]
  }
 ],
 "metadata": {
  "kernelspec": {
   "display_name": "Python 3",
   "language": "python",
   "name": "python3"
  },
  "language_info": {
   "codemirror_mode": {
    "name": "ipython",
    "version": 3
   },
   "file_extension": ".py",
   "mimetype": "text/x-python",
   "name": "python",
   "nbconvert_exporter": "python",
   "pygments_lexer": "ipython3",
   "version": "3.8.8"
  }
 },
 "nbformat": 4,
 "nbformat_minor": 5
}
